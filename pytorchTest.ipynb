{
 "cells": [
  {
   "cell_type": "code",
   "execution_count": 3,
   "id": "321197bc",
   "metadata": {},
   "outputs": [],
   "source": [
    "import torch\n"
   ]
  },
  {
   "cell_type": "markdown",
   "id": "bf4357af",
   "metadata": {},
   "source": [
    "## Scalar"
   ]
  },
  {
   "cell_type": "code",
   "execution_count": 4,
   "id": "20429473",
   "metadata": {},
   "outputs": [],
   "source": [
    "scalar_value = 42\n",
    "# generate 0 dimensional tensor\n",
    "scalar_tensor =torch.tensor(scalar_value)"
   ]
  },
  {
   "cell_type": "code",
   "execution_count": 5,
   "id": "375a9371",
   "metadata": {},
   "outputs": [
    {
     "data": {
      "text/plain": [
       "tensor(42)"
      ]
     },
     "execution_count": 5,
     "metadata": {},
     "output_type": "execute_result"
    }
   ],
   "source": [
    "scalar_tensor"
   ]
  },
  {
   "cell_type": "code",
   "execution_count": 6,
   "id": "f4e13461",
   "metadata": {},
   "outputs": [
    {
     "data": {
      "text/plain": [
       "torch.Size([])"
      ]
     },
     "execution_count": 6,
     "metadata": {},
     "output_type": "execute_result"
    }
   ],
   "source": [
    "scalar_tensor.shape"
   ]
  },
  {
   "cell_type": "markdown",
   "id": "b8d691f3",
   "metadata": {},
   "source": [
    "## Vectors"
   ]
  },
  {
   "cell_type": "code",
   "execution_count": 8,
   "id": "90f9ecb1",
   "metadata": {},
   "outputs": [],
   "source": [
    "v = torch.tensor([1, 2, 3])"
   ]
  },
  {
   "cell_type": "code",
   "execution_count": 9,
   "id": "373973df",
   "metadata": {},
   "outputs": [
    {
     "data": {
      "text/plain": [
       "tensor([1, 2, 3])"
      ]
     },
     "execution_count": 9,
     "metadata": {},
     "output_type": "execute_result"
    }
   ],
   "source": [
    "v"
   ]
  },
  {
   "cell_type": "code",
   "execution_count": 10,
   "id": "7de427af",
   "metadata": {},
   "outputs": [],
   "source": [
    "v = torch.zeros(3)"
   ]
  },
  {
   "cell_type": "code",
   "execution_count": 11,
   "id": "5cc03ced",
   "metadata": {},
   "outputs": [
    {
     "data": {
      "text/plain": [
       "tensor([0., 0., 0.])"
      ]
     },
     "execution_count": 11,
     "metadata": {},
     "output_type": "execute_result"
    }
   ],
   "source": [
    "v"
   ]
  },
  {
   "cell_type": "code",
   "execution_count": 14,
   "id": "d7134353",
   "metadata": {},
   "outputs": [],
   "source": [
    "v = torch.ones(5)"
   ]
  },
  {
   "cell_type": "code",
   "execution_count": 15,
   "id": "88fef5ed",
   "metadata": {},
   "outputs": [
    {
     "data": {
      "text/plain": [
       "tensor([1., 1., 1., 1., 1.])"
      ]
     },
     "execution_count": 15,
     "metadata": {},
     "output_type": "execute_result"
    }
   ],
   "source": [
    "v"
   ]
  },
  {
   "cell_type": "code",
   "execution_count": 16,
   "id": "7ebaf099",
   "metadata": {},
   "outputs": [],
   "source": [
    "v1 = torch.zeros(5)\n",
    "v2 = torch.ones(5)"
   ]
  },
  {
   "cell_type": "code",
   "execution_count": 17,
   "id": "6bbb9aeb",
   "metadata": {},
   "outputs": [
    {
     "name": "stdout",
     "output_type": "stream",
     "text": [
      "tensor([0., 0., 0., 0., 0.])   tensor([1., 1., 1., 1., 1.])\n"
     ]
    }
   ],
   "source": [
    "print(v1,\" \", v2)"
   ]
  },
  {
   "cell_type": "code",
   "execution_count": 19,
   "id": "2744eabd",
   "metadata": {},
   "outputs": [
    {
     "name": "stdout",
     "output_type": "stream",
     "text": [
      "tensor([1., 1., 1., 1., 1.])\n"
     ]
    }
   ],
   "source": [
    "v3 = v1 + v2\n",
    "print(v3)"
   ]
  },
  {
   "cell_type": "code",
   "execution_count": 20,
   "id": "051010f8",
   "metadata": {},
   "outputs": [
    {
     "name": "stdout",
     "output_type": "stream",
     "text": [
      "tensor([5, 7, 9])\n"
     ]
    }
   ],
   "source": [
    "v1 = torch.tensor([1, 2, 3])\n",
    "v2 = torch.tensor([4, 5, 6])\n",
    "v3 = v1 + v2\n",
    "print(v3)"
   ]
  },
  {
   "cell_type": "code",
   "execution_count": 22,
   "id": "824e34e8",
   "metadata": {},
   "outputs": [
    {
     "name": "stdout",
     "output_type": "stream",
     "text": [
      "tensor(10)\n"
     ]
    }
   ],
   "source": [
    "v = torch.tensor([1, 2, 3, 4])\n",
    "s = torch.sum(v)\n",
    "print(s)"
   ]
  },
  {
   "cell_type": "code",
   "execution_count": 29,
   "id": "feea45d9",
   "metadata": {},
   "outputs": [
    {
     "name": "stdout",
     "output_type": "stream",
     "text": [
      "tensor([ 1,  2,  3,  4,  5,  6,  7,  8,  9, 10])\n"
     ]
    }
   ],
   "source": [
    "v = torch.tensor([1, 2, 3, 4, 5, 6, 7, 8,9,10])\n",
    "print(v)"
   ]
  },
  {
   "cell_type": "code",
   "execution_count": 30,
   "id": "f3e9d1f9",
   "metadata": {},
   "outputs": [
    {
     "name": "stdout",
     "output_type": "stream",
     "text": [
      "tensor(3)\n"
     ]
    }
   ],
   "source": [
    "print(v[2])"
   ]
  },
  {
   "cell_type": "code",
   "execution_count": 31,
   "id": "1303b328",
   "metadata": {},
   "outputs": [
    {
     "name": "stdout",
     "output_type": "stream",
     "text": [
      "tensor([1, 2, 3, 4])\n"
     ]
    }
   ],
   "source": [
    "print(v[:4])"
   ]
  },
  {
   "cell_type": "code",
   "execution_count": 33,
   "id": "a6380135",
   "metadata": {},
   "outputs": [
    {
     "name": "stdout",
     "output_type": "stream",
     "text": [
      "tensor([ 5,  6,  7,  8,  9, 10])\n"
     ]
    }
   ],
   "source": [
    "print(v[4:])"
   ]
  },
  {
   "cell_type": "code",
   "execution_count": 34,
   "id": "23e22f0c",
   "metadata": {},
   "outputs": [
    {
     "name": "stdout",
     "output_type": "stream",
     "text": [
      "tensor([5, 6, 7, 8])\n"
     ]
    }
   ],
   "source": [
    "print(v[4:8])"
   ]
  },
  {
   "cell_type": "markdown",
   "id": "502d23d7",
   "metadata": {},
   "source": [
    "## Matrix"
   ]
  },
  {
   "cell_type": "code",
   "execution_count": 36,
   "id": "1333a130",
   "metadata": {},
   "outputs": [
    {
     "name": "stdout",
     "output_type": "stream",
     "text": [
      "tensor([[1, 2, 3],\n",
      "        [4, 5, 6]])\n"
     ]
    }
   ],
   "source": [
    "m = torch.tensor([[1, 2, 3], [4, 5, 6]])\n",
    "print(m)"
   ]
  },
  {
   "cell_type": "code",
   "execution_count": 39,
   "id": "7542f138",
   "metadata": {},
   "outputs": [
    {
     "name": "stdout",
     "output_type": "stream",
     "text": [
      "tensor([[0., 0., 0.],\n",
      "        [0., 0., 0.],\n",
      "        [0., 0., 0.]])\n"
     ]
    }
   ],
   "source": [
    "m_0 = torch.zeros(3, 3, dtype=torch.float32)\n",
    "print(m_0)"
   ]
  },
  {
   "cell_type": "code",
   "execution_count": 40,
   "id": "0928e53f",
   "metadata": {},
   "outputs": [
    {
     "name": "stdout",
     "output_type": "stream",
     "text": [
      "tensor([[1., 1., 1., 1.],\n",
      "        [1., 1., 1., 1.]])\n"
     ]
    }
   ],
   "source": [
    "m_1 = torch.ones(2, 4, dtype=torch.float32)\n",
    "print(m_1)"
   ]
  },
  {
   "cell_type": "code",
   "execution_count": 46,
   "id": "c7483dc5",
   "metadata": {},
   "outputs": [
    {
     "name": "stdout",
     "output_type": "stream",
     "text": [
      "torch.Size([2, 3])   torch.Size([2, 3])\n",
      "tensor([[1, 2, 3],\n",
      "        [4, 5, 6]])\n",
      "tensor([[ 7,  8,  9],\n",
      "        [10, 11, 12]])\n",
      "tensor([[ 8, 10, 12],\n",
      "        [14, 16, 18]])\n"
     ]
    }
   ],
   "source": [
    "# Create two 2X3 matcies and perfmorm matrix addition\n",
    "m1 = torch.tensor([[1, 2, 3], [4 ,5, 6]])\n",
    "m2 = torch.tensor([[7, 8, 9], [10, 11, 12]])\n",
    "\n",
    "print(m1.shape , \" \", m2.shape)\n",
    "\n",
    "m3 = m1 + m2\n",
    "\n",
    "print(m1)\n",
    "print(m2)\n",
    "print(m3)\n"
   ]
  },
  {
   "cell_type": "code",
   "execution_count": 48,
   "id": "da5c5307",
   "metadata": {},
   "outputs": [
    {
     "name": "stdout",
     "output_type": "stream",
     "text": [
      "tensor([[ 58,  64],\n",
      "        [139, 154]])\n"
     ]
    }
   ],
   "source": [
    "m1 = torch.tensor([[1, 2, 3], [4, 5, 6 ]])  # 2x3 matrix\n",
    "m2 = torch.tensor([[7, 8], [9, 10], [11, 12]]) # 3x2 matrix\n",
    "m3 = torch.mm(m1, m2)  # 2x2 matrix\n",
    "print(m3)"
   ]
  },
  {
   "cell_type": "code",
   "execution_count": 51,
   "id": "fd3b67f6",
   "metadata": {},
   "outputs": [
    {
     "name": "stdout",
     "output_type": "stream",
     "text": [
      "tensor([[ 58,  64],\n",
      "        [139, 154],\n",
      "        [220, 244]])\n"
     ]
    }
   ],
   "source": [
    "m1 = torch.tensor([[1, 2, 3], [4, 5, 6 ], [7, 8, 9]])  # 3x3 matrix\n",
    "m2 = torch.tensor([[7, 8], [9, 10], [11, 12]]) # 3x2 matrix\n",
    "m3 = torch.mm(m1, m2)  # 3x2 matrix\n",
    "print(m3)"
   ]
  },
  {
   "cell_type": "code",
   "execution_count": 52,
   "id": "576e7a90",
   "metadata": {},
   "outputs": [
    {
     "ename": "RuntimeError",
     "evalue": "mat1 and mat2 shapes cannot be multiplied (2x3 and 2x2)",
     "output_type": "error",
     "traceback": [
      "\u001b[31m---------------------------------------------------------------------------\u001b[39m",
      "\u001b[31mRuntimeError\u001b[39m                              Traceback (most recent call last)",
      "\u001b[36mCell\u001b[39m\u001b[36m \u001b[39m\u001b[32mIn[52]\u001b[39m\u001b[32m, line 3\u001b[39m\n\u001b[32m      1\u001b[39m m1 = torch.tensor([[\u001b[32m1\u001b[39m, \u001b[32m2\u001b[39m, \u001b[32m3\u001b[39m], [\u001b[32m4\u001b[39m, \u001b[32m5\u001b[39m, \u001b[32m6\u001b[39m ]])  \u001b[38;5;66;03m# 2x3 matrix\u001b[39;00m\n\u001b[32m      2\u001b[39m m2 = torch.tensor([[\u001b[32m7\u001b[39m, \u001b[32m8\u001b[39m], [\u001b[32m9\u001b[39m, \u001b[32m10\u001b[39m]]) \u001b[38;5;66;03m# 2x2 matrix\u001b[39;00m\n\u001b[32m----> \u001b[39m\u001b[32m3\u001b[39m m3 = \u001b[43mtorch\u001b[49m\u001b[43m.\u001b[49m\u001b[43mmm\u001b[49m\u001b[43m(\u001b[49m\u001b[43mm1\u001b[49m\u001b[43m,\u001b[49m\u001b[43m \u001b[49m\u001b[43mm2\u001b[49m\u001b[43m)\u001b[49m  \u001b[38;5;66;03m# It should not work\u001b[39;00m\n\u001b[32m      4\u001b[39m \u001b[38;5;28mprint\u001b[39m(m3)\n",
      "\u001b[31mRuntimeError\u001b[39m: mat1 and mat2 shapes cannot be multiplied (2x3 and 2x2)"
     ]
    }
   ],
   "source": [
    "m1 = torch.tensor([[1, 2, 3], [4, 5, 6 ]])  # 2x3 matrix\n",
    "m2 = torch.tensor([[7, 8], [9, 10]]) # 2x2 matrix\n",
    "m3 = torch.mm(m1, m2)  # It should not work\n",
    "print(m3)"
   ]
  },
  {
   "cell_type": "markdown",
   "id": "65eee0ed",
   "metadata": {},
   "source": [
    "# n-dimensional tensor"
   ]
  },
  {
   "cell_type": "code",
   "execution_count": 61,
   "id": "93fecfb7",
   "metadata": {},
   "outputs": [],
   "source": [
    "data = [1, 2, 3, 4, 5 , 6, 7, 8]"
   ]
  },
  {
   "cell_type": "code",
   "execution_count": 62,
   "id": "0bba2497",
   "metadata": {},
   "outputs": [],
   "source": [
    "shape = (2, 2, 2)"
   ]
  },
  {
   "cell_type": "code",
   "execution_count": 63,
   "id": "7f076547",
   "metadata": {},
   "outputs": [
    {
     "name": "stdout",
     "output_type": "stream",
     "text": [
      "tensor([[[1, 2],\n",
      "         [3, 4]],\n",
      "\n",
      "        [[5, 6],\n",
      "         [7, 8]]])\n"
     ]
    }
   ],
   "source": [
    "n_d_tensor = torch.tensor(data).reshape(shape)\n",
    "print(n_d_tensor)"
   ]
  },
  {
   "cell_type": "code",
   "execution_count": 65,
   "id": "dba8c893",
   "metadata": {},
   "outputs": [
    {
     "ename": "RuntimeError",
     "evalue": "Found no NVIDIA driver on your system. Please check that you have an NVIDIA GPU and installed a driver from http://www.nvidia.com/Download/index.aspx",
     "output_type": "error",
     "traceback": [
      "\u001b[31m---------------------------------------------------------------------------\u001b[39m",
      "\u001b[31mRuntimeError\u001b[39m                              Traceback (most recent call last)",
      "\u001b[36mCell\u001b[39m\u001b[36m \u001b[39m\u001b[32mIn[65]\u001b[39m\u001b[32m, line 2\u001b[39m\n\u001b[32m      1\u001b[39m x = torch.tensor([\u001b[32m1\u001b[39m, \u001b[32m2\u001b[39m, \u001b[32m3\u001b[39m])\n\u001b[32m----> \u001b[39m\u001b[32m2\u001b[39m x_gpu = \u001b[43mx\u001b[49m\u001b[43m.\u001b[49m\u001b[43mto\u001b[49m\u001b[43m(\u001b[49m\u001b[33;43m'\u001b[39;49m\u001b[33;43mcuda\u001b[39;49m\u001b[33;43m'\u001b[39;49m\u001b[43m)\u001b[49m  \u001b[38;5;66;03m# Move tensor to GPU\u001b[39;00m\n",
      "\u001b[36mFile \u001b[39m\u001b[32me:\\ComputerVision\\venv\\Lib\\site-packages\\torch\\cuda\\__init__.py:412\u001b[39m, in \u001b[36m_lazy_init\u001b[39m\u001b[34m()\u001b[39m\n\u001b[32m    410\u001b[39m \u001b[38;5;28;01mif\u001b[39;00m \u001b[33m\"\u001b[39m\u001b[33mCUDA_MODULE_LOADING\u001b[39m\u001b[33m\"\u001b[39m \u001b[38;5;129;01mnot\u001b[39;00m \u001b[38;5;129;01min\u001b[39;00m os.environ:\n\u001b[32m    411\u001b[39m     os.environ[\u001b[33m\"\u001b[39m\u001b[33mCUDA_MODULE_LOADING\u001b[39m\u001b[33m\"\u001b[39m] = \u001b[33m\"\u001b[39m\u001b[33mLAZY\u001b[39m\u001b[33m\"\u001b[39m\n\u001b[32m--> \u001b[39m\u001b[32m412\u001b[39m \u001b[43mtorch\u001b[49m\u001b[43m.\u001b[49m\u001b[43m_C\u001b[49m\u001b[43m.\u001b[49m\u001b[43m_cuda_init\u001b[49m\u001b[43m(\u001b[49m\u001b[43m)\u001b[49m\n\u001b[32m    413\u001b[39m \u001b[38;5;66;03m# Some of the queued calls may reentrantly call _lazy_init();\u001b[39;00m\n\u001b[32m    414\u001b[39m \u001b[38;5;66;03m# we need to just return without initializing in that case.\u001b[39;00m\n\u001b[32m    415\u001b[39m \u001b[38;5;66;03m# However, we must not let any *other* threads in!\u001b[39;00m\n\u001b[32m    416\u001b[39m _tls.is_initializing = \u001b[38;5;28;01mTrue\u001b[39;00m\n",
      "\u001b[31mRuntimeError\u001b[39m: Found no NVIDIA driver on your system. Please check that you have an NVIDIA GPU and installed a driver from http://www.nvidia.com/Download/index.aspx"
     ]
    }
   ],
   "source": [
    "x = torch.tensor([1, 2, 3])\n",
    "x_gpu = x.to('cuda')  # Move tensor to GPU"
   ]
  },
  {
   "cell_type": "code",
   "execution_count": null,
   "id": "2b5b3ca4",
   "metadata": {},
   "outputs": [],
   "source": []
  }
 ],
 "metadata": {
  "kernelspec": {
   "display_name": "venv",
   "language": "python",
   "name": "python3"
  },
  "language_info": {
   "codemirror_mode": {
    "name": "ipython",
    "version": 3
   },
   "file_extension": ".py",
   "mimetype": "text/x-python",
   "name": "python",
   "nbconvert_exporter": "python",
   "pygments_lexer": "ipython3",
   "version": "3.13.7"
  }
 },
 "nbformat": 4,
 "nbformat_minor": 5
}
